{
 "cells": [
  {
   "cell_type": "markdown",
   "id": "348410f9-37db-4b51-bb32-b2453bb49009",
   "metadata": {},
   "source": [
    "**My first markdown cell in Jupyter**"
   ]
  },
  {
   "cell_type": "code",
   "execution_count": 1,
   "id": "9553b8e1-465a-449e-92a0-c1c676afdcf1",
   "metadata": {},
   "outputs": [
    {
     "name": "stdout",
     "output_type": "stream",
     "text": [
      "Hello, World!\n"
     ]
    }
   ],
   "source": [
    "print(\"Hello, World!\")"
   ]
  },
  {
   "cell_type": "code",
   "execution_count": null,
   "id": "6476141c-0d49-4300-ab28-1098e10f09b6",
   "metadata": {},
   "outputs": [],
   "source": []
  }
 ],
 "metadata": {
  "kernelspec": {
   "display_name": "Python 3 (ipykernel)",
   "language": "python",
   "name": "python3"
  },
  "language_info": {
   "codemirror_mode": {
    "name": "ipython",
    "version": 3
   },
   "file_extension": ".py",
   "mimetype": "text/x-python",
   "name": "python",
   "nbconvert_exporter": "python",
   "pygments_lexer": "ipython3",
   "version": "3.12.4"
  }
 },
 "nbformat": 4,
 "nbformat_minor": 5
}
